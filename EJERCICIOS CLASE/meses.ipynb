{
 "cells": [
  {
   "cell_type": "markdown",
   "metadata": {},
   "source": [
    "# Ejercicios con la estructura DataFrame"
   ]
  },
  {
   "cell_type": "markdown",
   "metadata": {},
   "source": [
    "Importar las librerías"
   ]
  },
  {
   "cell_type": "code",
   "execution_count": 1,
   "metadata": {},
   "outputs": [],
   "source": [
    "import numpy as np\n",
    "import pandas as pd\n",
    "import matplotlib.pyplot as plt\n",
    "from sklearn.preprocessing import StandardScaler\n",
    "from sklearn.preprocessing import MinMaxScaler"
   ]
  },
  {
   "cell_type": "markdown",
   "metadata": {},
   "source": [
    "Creación de un DataFrame"
   ]
  },
  {
   "cell_type": "code",
   "execution_count": 2,
   "metadata": {},
   "outputs": [
    {
     "data": {
      "text/html": [
       "<div>\n",
       "<style scoped>\n",
       "    .dataframe tbody tr th:only-of-type {\n",
       "        vertical-align: middle;\n",
       "    }\n",
       "\n",
       "    .dataframe tbody tr th {\n",
       "        vertical-align: top;\n",
       "    }\n",
       "\n",
       "    .dataframe thead th {\n",
       "        text-align: right;\n",
       "    }\n",
       "</style>\n",
       "<table border=\"1\" class=\"dataframe\">\n",
       "  <thead>\n",
       "    <tr style=\"text-align: right;\">\n",
       "      <th></th>\n",
       "      <th>Mes</th>\n",
       "      <th>Días</th>\n",
       "      <th>Estación</th>\n",
       "      <th>Temp.2021</th>\n",
       "      <th>Temp.2022</th>\n",
       "    </tr>\n",
       "  </thead>\n",
       "  <tbody>\n",
       "    <tr>\n",
       "      <th>Ene</th>\n",
       "      <td>Enero</td>\n",
       "      <td>31</td>\n",
       "      <td>inv</td>\n",
       "      <td>2</td>\n",
       "      <td>4</td>\n",
       "    </tr>\n",
       "    <tr>\n",
       "      <th>Feb</th>\n",
       "      <td>Febrero</td>\n",
       "      <td>28</td>\n",
       "      <td>inv</td>\n",
       "      <td>3</td>\n",
       "      <td>2</td>\n",
       "    </tr>\n",
       "    <tr>\n",
       "      <th>Mar</th>\n",
       "      <td>Marzo</td>\n",
       "      <td>31</td>\n",
       "      <td>inv</td>\n",
       "      <td>7</td>\n",
       "      <td>5</td>\n",
       "    </tr>\n",
       "    <tr>\n",
       "      <th>Abr</th>\n",
       "      <td>Abril</td>\n",
       "      <td>30</td>\n",
       "      <td>pri</td>\n",
       "      <td>7</td>\n",
       "      <td>9</td>\n",
       "    </tr>\n",
       "    <tr>\n",
       "      <th>May</th>\n",
       "      <td>Mayo</td>\n",
       "      <td>31</td>\n",
       "      <td>pri</td>\n",
       "      <td>9</td>\n",
       "      <td>10</td>\n",
       "    </tr>\n",
       "    <tr>\n",
       "      <th>Jun</th>\n",
       "      <td>Junio</td>\n",
       "      <td>30</td>\n",
       "      <td>pri</td>\n",
       "      <td>15</td>\n",
       "      <td>14</td>\n",
       "    </tr>\n",
       "    <tr>\n",
       "      <th>Jul</th>\n",
       "      <td>Julio</td>\n",
       "      <td>31</td>\n",
       "      <td>ver</td>\n",
       "      <td>20</td>\n",
       "      <td>24</td>\n",
       "    </tr>\n",
       "    <tr>\n",
       "      <th>Ago</th>\n",
       "      <td>Agosto</td>\n",
       "      <td>31</td>\n",
       "      <td>ver</td>\n",
       "      <td>27</td>\n",
       "      <td>26</td>\n",
       "    </tr>\n",
       "    <tr>\n",
       "      <th>Sep</th>\n",
       "      <td>Septiembre</td>\n",
       "      <td>30</td>\n",
       "      <td>ver</td>\n",
       "      <td>25</td>\n",
       "      <td>18</td>\n",
       "    </tr>\n",
       "    <tr>\n",
       "      <th>Oct</th>\n",
       "      <td>Octubre</td>\n",
       "      <td>31</td>\n",
       "      <td>oto</td>\n",
       "      <td>20</td>\n",
       "      <td>14</td>\n",
       "    </tr>\n",
       "    <tr>\n",
       "      <th>Nov</th>\n",
       "      <td>Noviembre</td>\n",
       "      <td>30</td>\n",
       "      <td>oto</td>\n",
       "      <td>11</td>\n",
       "      <td>10</td>\n",
       "    </tr>\n",
       "    <tr>\n",
       "      <th>Dic</th>\n",
       "      <td>Diciembre</td>\n",
       "      <td>31</td>\n",
       "      <td>oto</td>\n",
       "      <td>6</td>\n",
       "      <td>7</td>\n",
       "    </tr>\n",
       "  </tbody>\n",
       "</table>\n",
       "</div>"
      ],
      "text/plain": [
       "            Mes  Días Estación  Temp.2021  Temp.2022\n",
       "Ene       Enero    31      inv          2          4\n",
       "Feb     Febrero    28      inv          3          2\n",
       "Mar       Marzo    31      inv          7          5\n",
       "Abr       Abril    30      pri          7          9\n",
       "May        Mayo    31      pri          9         10\n",
       "Jun       Junio    30      pri         15         14\n",
       "Jul       Julio    31      ver         20         24\n",
       "Ago      Agosto    31      ver         27         26\n",
       "Sep  Septiembre    30      ver         25         18\n",
       "Oct     Octubre    31      oto         20         14\n",
       "Nov   Noviembre    30      oto         11         10\n",
       "Dic   Diciembre    31      oto          6          7"
      ]
     },
     "execution_count": 2,
     "metadata": {},
     "output_type": "execute_result"
    }
   ],
   "source": [
    "tabla = pd.DataFrame([('Enero', 31, 'inv', 2, 4),('Febrero', 28, 'inv', 3, 2),('Marzo', 31, 'inv', 7, 5),\n",
    "                  ('Abril', 30, 'pri', 7, 9),('Mayo', 31, 'pri', 9, 10),('Junio', 30, 'pri', 15, 14),\n",
    "                  ('Julio', 31, 'ver', 20, 24),('Agosto', 31, 'ver', 27, 26),('Septiembre', 30, 'ver', 25, 18),\n",
    "                  ('Octubre', 31, 'oto', 20, 14),('Noviembre', 30, 'oto', 11, 10),('Diciembre', 31, 'oto', 6, 7),], \n",
    "                columns=['Mes', 'Días', 'Estación', 'Temp.2021', 'Temp.2022'],   \n",
    "                index=['Ene', 'Feb', 'Mar', 'Abr', 'May', 'Jun', 'Jul', 'Ago', 'Sep', 'Oct', 'Nov', 'Dic'])\n",
    "tabla"
   ]
  },
  {
   "cell_type": "markdown",
   "metadata": {},
   "source": [
    "#### Ejercicio 1. Muestra los valores contenidos en la tabla, las etiquetas de sus índices, y los nombres de sus columnas\n"
   ]
  },
  {
   "cell_type": "code",
   "execution_count": 3,
   "metadata": {},
   "outputs": [
    {
     "data": {
      "text/plain": [
       "array([['Enero', 31, 'inv', 2, 4],\n",
       "       ['Febrero', 28, 'inv', 3, 2],\n",
       "       ['Marzo', 31, 'inv', 7, 5],\n",
       "       ['Abril', 30, 'pri', 7, 9],\n",
       "       ['Mayo', 31, 'pri', 9, 10],\n",
       "       ['Junio', 30, 'pri', 15, 14],\n",
       "       ['Julio', 31, 'ver', 20, 24],\n",
       "       ['Agosto', 31, 'ver', 27, 26],\n",
       "       ['Septiembre', 30, 'ver', 25, 18],\n",
       "       ['Octubre', 31, 'oto', 20, 14],\n",
       "       ['Noviembre', 30, 'oto', 11, 10],\n",
       "       ['Diciembre', 31, 'oto', 6, 7]], dtype=object)"
      ]
     },
     "execution_count": 3,
     "metadata": {},
     "output_type": "execute_result"
    }
   ],
   "source": [
    "tabla.values"
   ]
  },
  {
   "cell_type": "code",
   "execution_count": 4,
   "metadata": {},
   "outputs": [
    {
     "data": {
      "text/plain": [
       "Index(['Ene', 'Feb', 'Mar', 'Abr', 'May', 'Jun', 'Jul', 'Ago', 'Sep', 'Oct',\n",
       "       'Nov', 'Dic'],\n",
       "      dtype='object')"
      ]
     },
     "execution_count": 4,
     "metadata": {},
     "output_type": "execute_result"
    }
   ],
   "source": [
    "tabla.index"
   ]
  },
  {
   "cell_type": "code",
   "execution_count": 5,
   "metadata": {},
   "outputs": [
    {
     "data": {
      "text/plain": [
       "Index(['Mes', 'Días', 'Estación', 'Temp.2021', 'Temp.2022'], dtype='object')"
      ]
     },
     "execution_count": 5,
     "metadata": {},
     "output_type": "execute_result"
    }
   ],
   "source": [
    "tabla.columns"
   ]
  },
  {
   "cell_type": "markdown",
   "metadata": {},
   "source": [
    "#### Ejercicio 2. Muestra los datos de la columna Mes con dos comandos diferentes. "
   ]
  },
  {
   "cell_type": "code",
   "execution_count": 6,
   "metadata": {},
   "outputs": [
    {
     "data": {
      "text/plain": [
       "Ene         Enero\n",
       "Feb       Febrero\n",
       "Mar         Marzo\n",
       "Abr         Abril\n",
       "May          Mayo\n",
       "Jun         Junio\n",
       "Jul         Julio\n",
       "Ago        Agosto\n",
       "Sep    Septiembre\n",
       "Oct       Octubre\n",
       "Nov     Noviembre\n",
       "Dic     Diciembre\n",
       "Name: Mes, dtype: object"
      ]
     },
     "execution_count": 6,
     "metadata": {},
     "output_type": "execute_result"
    }
   ],
   "source": [
    "tabla.Mes"
   ]
  },
  {
   "cell_type": "code",
   "execution_count": 7,
   "metadata": {},
   "outputs": [
    {
     "data": {
      "text/plain": [
       "Ene         Enero\n",
       "Feb       Febrero\n",
       "Mar         Marzo\n",
       "Abr         Abril\n",
       "May          Mayo\n",
       "Jun         Junio\n",
       "Jul         Julio\n",
       "Ago        Agosto\n",
       "Sep    Septiembre\n",
       "Oct       Octubre\n",
       "Nov     Noviembre\n",
       "Dic     Diciembre\n",
       "Name: Mes, dtype: object"
      ]
     },
     "execution_count": 7,
     "metadata": {},
     "output_type": "execute_result"
    }
   ],
   "source": [
    "tabla['Mes']"
   ]
  },
  {
   "cell_type": "markdown",
   "metadata": {},
   "source": [
    "#### Ejercicio 3. Aplica el filtro 1 y 2 de forma apropiada para obtener la información de los meses de otoño con más de 10 grados en 2021, y para obtener la información de los meses de otoño y los meses con más de 10 grados en 2021."
   ]
  },
  {
   "cell_type": "code",
   "execution_count": 8,
   "metadata": {},
   "outputs": [],
   "source": [
    "filtro1 = tabla['Estación'] == 'oto'\n",
    "filtro2 = tabla['Temp.2021'] > 10"
   ]
  },
  {
   "cell_type": "code",
   "execution_count": 9,
   "metadata": {},
   "outputs": [
    {
     "data": {
      "text/html": [
       "<div>\n",
       "<style scoped>\n",
       "    .dataframe tbody tr th:only-of-type {\n",
       "        vertical-align: middle;\n",
       "    }\n",
       "\n",
       "    .dataframe tbody tr th {\n",
       "        vertical-align: top;\n",
       "    }\n",
       "\n",
       "    .dataframe thead th {\n",
       "        text-align: right;\n",
       "    }\n",
       "</style>\n",
       "<table border=\"1\" class=\"dataframe\">\n",
       "  <thead>\n",
       "    <tr style=\"text-align: right;\">\n",
       "      <th></th>\n",
       "      <th>Mes</th>\n",
       "      <th>Días</th>\n",
       "      <th>Estación</th>\n",
       "      <th>Temp.2021</th>\n",
       "      <th>Temp.2022</th>\n",
       "    </tr>\n",
       "  </thead>\n",
       "  <tbody>\n",
       "    <tr>\n",
       "      <th>Oct</th>\n",
       "      <td>Octubre</td>\n",
       "      <td>31</td>\n",
       "      <td>oto</td>\n",
       "      <td>20</td>\n",
       "      <td>14</td>\n",
       "    </tr>\n",
       "    <tr>\n",
       "      <th>Nov</th>\n",
       "      <td>Noviembre</td>\n",
       "      <td>30</td>\n",
       "      <td>oto</td>\n",
       "      <td>11</td>\n",
       "      <td>10</td>\n",
       "    </tr>\n",
       "  </tbody>\n",
       "</table>\n",
       "</div>"
      ],
      "text/plain": [
       "           Mes  Días Estación  Temp.2021  Temp.2022\n",
       "Oct    Octubre    31      oto         20         14\n",
       "Nov  Noviembre    30      oto         11         10"
      ]
     },
     "execution_count": 9,
     "metadata": {},
     "output_type": "execute_result"
    }
   ],
   "source": [
    "#AND\n",
    "tabla[filtro1 & filtro2]"
   ]
  },
  {
   "cell_type": "code",
   "execution_count": 10,
   "metadata": {},
   "outputs": [
    {
     "data": {
      "text/html": [
       "<div>\n",
       "<style scoped>\n",
       "    .dataframe tbody tr th:only-of-type {\n",
       "        vertical-align: middle;\n",
       "    }\n",
       "\n",
       "    .dataframe tbody tr th {\n",
       "        vertical-align: top;\n",
       "    }\n",
       "\n",
       "    .dataframe thead th {\n",
       "        text-align: right;\n",
       "    }\n",
       "</style>\n",
       "<table border=\"1\" class=\"dataframe\">\n",
       "  <thead>\n",
       "    <tr style=\"text-align: right;\">\n",
       "      <th></th>\n",
       "      <th>Mes</th>\n",
       "      <th>Días</th>\n",
       "      <th>Estación</th>\n",
       "      <th>Temp.2021</th>\n",
       "      <th>Temp.2022</th>\n",
       "    </tr>\n",
       "  </thead>\n",
       "  <tbody>\n",
       "    <tr>\n",
       "      <th>Jun</th>\n",
       "      <td>Junio</td>\n",
       "      <td>30</td>\n",
       "      <td>pri</td>\n",
       "      <td>15</td>\n",
       "      <td>14</td>\n",
       "    </tr>\n",
       "    <tr>\n",
       "      <th>Jul</th>\n",
       "      <td>Julio</td>\n",
       "      <td>31</td>\n",
       "      <td>ver</td>\n",
       "      <td>20</td>\n",
       "      <td>24</td>\n",
       "    </tr>\n",
       "    <tr>\n",
       "      <th>Ago</th>\n",
       "      <td>Agosto</td>\n",
       "      <td>31</td>\n",
       "      <td>ver</td>\n",
       "      <td>27</td>\n",
       "      <td>26</td>\n",
       "    </tr>\n",
       "    <tr>\n",
       "      <th>Sep</th>\n",
       "      <td>Septiembre</td>\n",
       "      <td>30</td>\n",
       "      <td>ver</td>\n",
       "      <td>25</td>\n",
       "      <td>18</td>\n",
       "    </tr>\n",
       "    <tr>\n",
       "      <th>Oct</th>\n",
       "      <td>Octubre</td>\n",
       "      <td>31</td>\n",
       "      <td>oto</td>\n",
       "      <td>20</td>\n",
       "      <td>14</td>\n",
       "    </tr>\n",
       "    <tr>\n",
       "      <th>Nov</th>\n",
       "      <td>Noviembre</td>\n",
       "      <td>30</td>\n",
       "      <td>oto</td>\n",
       "      <td>11</td>\n",
       "      <td>10</td>\n",
       "    </tr>\n",
       "    <tr>\n",
       "      <th>Dic</th>\n",
       "      <td>Diciembre</td>\n",
       "      <td>31</td>\n",
       "      <td>oto</td>\n",
       "      <td>6</td>\n",
       "      <td>7</td>\n",
       "    </tr>\n",
       "  </tbody>\n",
       "</table>\n",
       "</div>"
      ],
      "text/plain": [
       "            Mes  Días Estación  Temp.2021  Temp.2022\n",
       "Jun       Junio    30      pri         15         14\n",
       "Jul       Julio    31      ver         20         24\n",
       "Ago      Agosto    31      ver         27         26\n",
       "Sep  Septiembre    30      ver         25         18\n",
       "Oct     Octubre    31      oto         20         14\n",
       "Nov   Noviembre    30      oto         11         10\n",
       "Dic   Diciembre    31      oto          6          7"
      ]
     },
     "execution_count": 10,
     "metadata": {},
     "output_type": "execute_result"
    }
   ],
   "source": [
    "#OR\n",
    "tabla[filtro1|filtro2]"
   ]
  },
  {
   "cell_type": "markdown",
   "metadata": {},
   "source": [
    "Generación y representación de una serie con las temperaturas de 2021 y 2022"
   ]
  },
  {
   "cell_type": "code",
   "execution_count": 11,
   "metadata": {},
   "outputs": [
    {
     "data": {
      "text/plain": [
       "Ene     2.0\n",
       "Feb     3.0\n",
       "Mar     7.0\n",
       "Abr     7.0\n",
       "May     9.0\n",
       "Jun    15.0\n",
       "Jul    20.0\n",
       "Ago    27.0\n",
       "Sep    25.0\n",
       "Oct    20.0\n",
       "Nov    11.0\n",
       "Dic     6.0\n",
       "Ene     4.0\n",
       "Feb     2.0\n",
       "Mar     5.0\n",
       "Abr     9.0\n",
       "May    10.0\n",
       "Jun    14.0\n",
       "Jul    24.0\n",
       "Ago    26.0\n",
       "Sep    18.0\n",
       "Oct    14.0\n",
       "Nov    10.0\n",
       "Dic     7.0\n",
       "dtype: float64"
      ]
     },
     "execution_count": 11,
     "metadata": {},
     "output_type": "execute_result"
    }
   ],
   "source": [
    "temp = pd.concat([tabla['Temp.2021'], tabla['Temp.2022']], axis=0)\n",
    "temp = temp.apply(lambda val: float(val))\n",
    "temp"
   ]
  },
  {
   "cell_type": "code",
   "execution_count": 12,
   "metadata": {},
   "outputs": [
    {
     "data": {
      "text/plain": [
       "<AxesSubplot: title={'center': 'temperaturas'}>"
      ]
     },
     "execution_count": 12,
     "metadata": {},
     "output_type": "execute_result"
    },
    {
     "data": {
      "image/png": "[encoded data removed]",
      "text/plain": [
       "<Figure size 500x300 with 1 Axes>"
      ]
     },
     "metadata": {},
     "output_type": "display_data"
    }
   ],
   "source": [
    "figura, ax = plt.subplots(1,1, figsize=(5,3))\n",
    "temp.plot(ax = ax, title = 'temperaturas')"
   ]
  },
  {
   "cell_type": "markdown",
   "metadata": {},
   "source": [
    "Definición y aplicación de un filtro de media y otro de diferencias y representación de los resultados\n",
    "\n",
    "#### Ejercicio 4. Completa las líneas de código donde se indica"
   ]
  },
  {
   "cell_type": "code",
   "execution_count": 13,
   "metadata": {},
   "outputs": [],
   "source": [
    "def filtro_media(serie):\n",
    "    valores=serie.values\n",
    "    new_valores = valores.copy()\n",
    "    for i in range(len(valores)):\n",
    "        if i<3 or i>len(valores)-4:\n",
    "            new_valores[i]=np.nan\n",
    "        else:\n",
    "            # Añade una línea de código para calcular la media con los valores vecinos\n",
    "            #cada valor lo sustituimos por la media de ese valor con sus vecinos (3 anteriores y 3 siguientes)\n",
    "            new_valores[i]= (valores[i-3]+valores[i-2]+valores[i]+valores[i-1]+valores[i+3]+valores[i+2]+valores[i+1])/7\n",
    "               \n",
    "    new_serie=pd.Series(new_valores, index=serie.index)\n",
    "    return new_serie\n",
    "\n",
    "def filtro_diferencia(serie):\n",
    "    valores=serie.values\n",
    "    new_valores = valores.copy()\n",
    "    for i in range(len(valores)):\n",
    "        if i<1:\n",
    "            new_valores[i]=np.nan\n",
    "        else:\n",
    "            # Añade una línea de código para calcular la diferencia de cada valor con el anterior\n",
    "            #para cada valor calculo la diferencia con el anterior\n",
    "            new_valores[i]=valores[i]-valores[i-1]\n",
    "    new_serie=pd.Series(new_valores, index=serie.index)\n",
    "    return new_serie"
   ]
  },
  {
   "cell_type": "code",
   "execution_count": 14,
   "metadata": {},
   "outputs": [],
   "source": [
    "tendencia = filtro_media(temp)\n",
    "cambios = filtro_diferencia(temp)"
   ]
  },
  {
   "cell_type": "code",
   "execution_count": 15,
   "metadata": {},
   "outputs": [
    {
     "data": {
      "text/plain": [
       "<AxesSubplot: title={'center': 'cambios de temperaturas'}>"
      ]
     },
     "execution_count": 15,
     "metadata": {},
     "output_type": "execute_result"
    },
    {
     "data": {
      "image/png": "[encoded data removed]",
      "text/plain": [
       "<Figure size 800x300 with 2 Axes>"
      ]
     },
     "metadata": {},
     "output_type": "display_data"
    }
   ],
   "source": [
    "#Cuantos más vecinos utilice para suavizar la media más se suavizará la gráfica\n",
    "figura, (ax1, ax2) = plt.subplots(nrows=1, ncols=2, figsize=(8,3))\n",
    "tendencia.plot(ax = ax1, title='tendencia de temperaturas')\n",
    "cambios.plot(ax = ax2, title='cambios de temperaturas')"
   ]
  },
  {
   "cell_type": "markdown",
   "metadata": {},
   "source": [
    "#### Ejercicio 5. Normaliza la serie temp. Estandariza sus valores (con métodos de scikit-learn y usando la fórmula. Escala los valores de tem de 0 a 1 (con métodos de scikit-learn y usando la fórmula)."
   ]
  },
  {
   "cell_type": "code",
   "execution_count": 16,
   "metadata": {},
   "outputs": [
    {
     "data": {
      "text/plain": [
       "array([[-1.32636688],\n",
       "       [-1.19748913],\n",
       "       [-0.68197811],\n",
       "       [-0.68197811],\n",
       "       [-0.42422261],\n",
       "       [ 0.34904392],\n",
       "       [ 0.99343269],\n",
       "       [ 1.89557697],\n",
       "       [ 1.63782146],\n",
       "       [ 0.99343269],\n",
       "       [-0.1664671 ],\n",
       "       [-0.81085587],\n",
       "       [-1.06861138],\n",
       "       [-1.32636688],\n",
       "       [-0.93973362],\n",
       "       [-0.42422261],\n",
       "       [-0.29534485],\n",
       "       [ 0.22016616],\n",
       "       [ 1.5089437 ],\n",
       "       [ 1.76669921],\n",
       "       [ 0.73567718],\n",
       "       [ 0.22016616],\n",
       "       [-0.29534485],\n",
       "       [-0.68197811]])"
      ]
     },
     "execution_count": 16,
     "metadata": {},
     "output_type": "execute_result"
    }
   ],
   "source": [
    "from sklearn.preprocessing import StandardScaler\n",
    "scaler = StandardScaler()\n",
    "temp_float = temp.astype(float)\n",
    "scaler.fit_transform(temp_float.values.reshape(-1,1))"
   ]
  },
  {
   "cell_type": "code",
   "execution_count": 17,
   "metadata": {},
   "outputs": [
    {
     "data": {
      "text/plain": [
       "Ene   -1.326367\n",
       "Feb   -1.197489\n",
       "Mar   -0.681978\n",
       "Abr   -0.681978\n",
       "May   -0.424223\n",
       "Jun    0.349044\n",
       "Jul    0.993433\n",
       "Ago    1.895577\n",
       "Sep    1.637821\n",
       "Oct    0.993433\n",
       "Nov   -0.166467\n",
       "Dic   -0.810856\n",
       "Ene   -1.068611\n",
       "Feb   -1.326367\n",
       "Mar   -0.939734\n",
       "Abr   -0.424223\n",
       "May   -0.295345\n",
       "Jun    0.220166\n",
       "Jul    1.508944\n",
       "Ago    1.766699\n",
       "Sep    0.735677\n",
       "Oct    0.220166\n",
       "Nov   -0.295345\n",
       "Dic   -0.681978\n",
       "dtype: float64"
      ]
     },
     "execution_count": 17,
     "metadata": {},
     "output_type": "execute_result"
    }
   ],
   "source": [
    "std_temp = (temp-np.mean(temp))/np.std(temp)\n",
    "std_temp"
   ]
  },
  {
   "cell_type": "code",
   "execution_count": 18,
   "metadata": {},
   "outputs": [
    {
     "data": {
      "text/plain": [
       "array([[0.  ],\n",
       "       [0.04],\n",
       "       [0.2 ],\n",
       "       [0.2 ],\n",
       "       [0.28],\n",
       "       [0.52],\n",
       "       [0.72],\n",
       "       [1.  ],\n",
       "       [0.92],\n",
       "       [0.72],\n",
       "       [0.36],\n",
       "       [0.16],\n",
       "       [0.08],\n",
       "       [0.  ],\n",
       "       [0.12],\n",
       "       [0.28],\n",
       "       [0.32],\n",
       "       [0.48],\n",
       "       [0.88],\n",
       "       [0.96],\n",
       "       [0.64],\n",
       "       [0.48],\n",
       "       [0.32],\n",
       "       [0.2 ]])"
      ]
     },
     "execution_count": 18,
     "metadata": {},
     "output_type": "execute_result"
    }
   ],
   "source": [
    "from sklearn.preprocessing import MinMaxScaler\n",
    "scaler = MinMaxScaler()\n",
    "temp_float = temp.astype(float)\n",
    "scaler.fit_transform(temp_float.values.reshape(-1,1))"
   ]
  },
  {
   "cell_type": "code",
   "execution_count": 19,
   "metadata": {},
   "outputs": [
    {
     "data": {
      "text/plain": [
       "Ene    0.00\n",
       "Feb    0.04\n",
       "Mar    0.20\n",
       "Abr    0.20\n",
       "May    0.28\n",
       "Jun    0.52\n",
       "Jul    0.72\n",
       "Ago    1.00\n",
       "Sep    0.92\n",
       "Oct    0.72\n",
       "Nov    0.36\n",
       "Dic    0.16\n",
       "Ene    0.08\n",
       "Feb    0.00\n",
       "Mar    0.12\n",
       "Abr    0.28\n",
       "May    0.32\n",
       "Jun    0.48\n",
       "Jul    0.88\n",
       "Ago    0.96\n",
       "Sep    0.64\n",
       "Oct    0.48\n",
       "Nov    0.32\n",
       "Dic    0.20\n",
       "dtype: float64"
      ]
     },
     "execution_count": 19,
     "metadata": {},
     "output_type": "execute_result"
    }
   ],
   "source": [
    "temp_norm = (temp-np.min(temp))/(np.max(temp)-np.min(temp))\n",
    "temp_norm"
   ]
  },
  {
   "cell_type": "markdown",
   "metadata": {},
   "source": [
    "#### Ejercicio 6. Calcular la temperatura media en cada estación en 2022"
   ]
  },
  {
   "cell_type": "code",
   "execution_count": 29,
   "metadata": {},
   "outputs": [
    {
     "data": {
      "text/plain": [
       "Estación\n",
       "inv     3.666667\n",
       "oto    10.333333\n",
       "pri    11.000000\n",
       "ver    22.666667\n",
       "Name: Temp.2022, dtype: float64"
      ]
     },
     "execution_count": 29,
     "metadata": {},
     "output_type": "execute_result"
    }
   ],
   "source": [
    "tabla.groupby(['Estación'])['Temp.2022'].mean()"
   ]
  }
 ],
 "metadata": {
  "kernelspec": {
   "display_name": "Python 3 (ipykernel)",
   "language": "python",
   "name": "python3"
  },
  "language_info": {
   "codemirror_mode": {
    "name": "ipython",
    "version": 3
   },
   "file_extension": ".py",
   "mimetype": "text/x-python",
   "name": "python",
   "nbconvert_exporter": "python",
   "pygments_lexer": "ipython3",
   "version": "3.9.13"
  }
 },
 "nbformat": 4,
 "nbformat_minor": 4
}
