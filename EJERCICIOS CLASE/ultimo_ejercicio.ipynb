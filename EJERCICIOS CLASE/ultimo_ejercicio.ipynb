{
 "cells": [
  {
   "cell_type": "code",
   "execution_count": 1,
   "id": "f3089f98",
   "metadata": {},
   "outputs": [],
   "source": [
    "import numpy as np\n",
    "import pandas as pd\n",
    "import matplotlib.pyplot as plt\n",
    "from sklearn.model_selection import train_test_split\n",
    "from sklearn.pipeline import Pipeline"
   ]
  },
  {
   "cell_type": "markdown",
   "id": "40164009",
   "metadata": {},
   "source": [
    "### Importo los datos"
   ]
  },
  {
   "cell_type": "code",
   "execution_count": 2,
   "id": "8a50dbd8",
   "metadata": {},
   "outputs": [],
   "source": [
    "libro = pd.ExcelFile('Superstore_Dataset.xlsx')"
   ]
  },
  {
   "cell_type": "code",
   "execution_count": 3,
   "id": "09bc45f2",
   "metadata": {},
   "outputs": [
    {
     "data": {
      "text/html": [
       "<div>\n",
       "<style scoped>\n",
       "    .dataframe tbody tr th:only-of-type {\n",
       "        vertical-align: middle;\n",
       "    }\n",
       "\n",
       "    .dataframe tbody tr th {\n",
       "        vertical-align: top;\n",
       "    }\n",
       "\n",
       "    .dataframe thead th {\n",
       "        text-align: right;\n",
       "    }\n",
       "</style>\n",
       "<table border=\"1\" class=\"dataframe\">\n",
       "  <thead>\n",
       "    <tr style=\"text-align: right;\">\n",
       "      <th></th>\n",
       "      <th>Row ID+O6G3A1:R6</th>\n",
       "      <th>Order ID</th>\n",
       "      <th>Order Date</th>\n",
       "      <th>Ship Date</th>\n",
       "      <th>Ship Mode</th>\n",
       "      <th>Customer ID</th>\n",
       "      <th>Customer Name</th>\n",
       "      <th>Segment</th>\n",
       "      <th>Country</th>\n",
       "      <th>City</th>\n",
       "      <th>State</th>\n",
       "      <th>Region</th>\n",
       "      <th>Product ID</th>\n",
       "      <th>Category</th>\n",
       "      <th>Sub-Category</th>\n",
       "      <th>Product Name</th>\n",
       "      <th>Sales</th>\n",
       "      <th>Quantity</th>\n",
       "      <th>Profit</th>\n",
       "    </tr>\n",
       "  </thead>\n",
       "  <tbody>\n",
       "    <tr>\n",
       "      <th>0</th>\n",
       "      <td>1</td>\n",
       "      <td>CA-2019-152156</td>\n",
       "      <td>2019-11-08</td>\n",
       "      <td>2019-11-11</td>\n",
       "      <td>Second Class</td>\n",
       "      <td>CG-12520</td>\n",
       "      <td>Claire Gute</td>\n",
       "      <td>Consumer</td>\n",
       "      <td>United States</td>\n",
       "      <td>Henderson</td>\n",
       "      <td>Kentucky</td>\n",
       "      <td>South</td>\n",
       "      <td>FUR-BO-10001798</td>\n",
       "      <td>Furniture</td>\n",
       "      <td>Bookcases</td>\n",
       "      <td>Bush Somerset Collection Bookcase</td>\n",
       "      <td>261.960</td>\n",
       "      <td>2</td>\n",
       "      <td>41.9136</td>\n",
       "    </tr>\n",
       "    <tr>\n",
       "      <th>1</th>\n",
       "      <td>2</td>\n",
       "      <td>CA-2019-152156</td>\n",
       "      <td>2019-11-08</td>\n",
       "      <td>2019-11-11</td>\n",
       "      <td>Second Class</td>\n",
       "      <td>CG-12520</td>\n",
       "      <td>Claire Gute</td>\n",
       "      <td>Consumer</td>\n",
       "      <td>United States</td>\n",
       "      <td>Henderson</td>\n",
       "      <td>Kentucky</td>\n",
       "      <td>South</td>\n",
       "      <td>FUR-CH-10000454</td>\n",
       "      <td>Furniture</td>\n",
       "      <td>Chairs</td>\n",
       "      <td>Hon Deluxe Fabric Upholstered Stacking Chairs,...</td>\n",
       "      <td>731.940</td>\n",
       "      <td>3</td>\n",
       "      <td>219.5820</td>\n",
       "    </tr>\n",
       "    <tr>\n",
       "      <th>2</th>\n",
       "      <td>3</td>\n",
       "      <td>CA-2019-138688</td>\n",
       "      <td>2019-06-12</td>\n",
       "      <td>2019-06-16</td>\n",
       "      <td>Second Class</td>\n",
       "      <td>DV-13045</td>\n",
       "      <td>Darrin Van Huff</td>\n",
       "      <td>Corporate</td>\n",
       "      <td>United States</td>\n",
       "      <td>Los Angeles</td>\n",
       "      <td>California</td>\n",
       "      <td>West</td>\n",
       "      <td>OFF-LA-10000240</td>\n",
       "      <td>Office Supplies</td>\n",
       "      <td>Labels</td>\n",
       "      <td>Self-Adhesive Address Labels for Typewriters b...</td>\n",
       "      <td>14.620</td>\n",
       "      <td>2</td>\n",
       "      <td>6.8714</td>\n",
       "    </tr>\n",
       "    <tr>\n",
       "      <th>3</th>\n",
       "      <td>13</td>\n",
       "      <td>CA-2020-114412</td>\n",
       "      <td>2020-04-15</td>\n",
       "      <td>2020-04-20</td>\n",
       "      <td>Standard Class</td>\n",
       "      <td>AA-10480</td>\n",
       "      <td>Andrew Allen</td>\n",
       "      <td>Consumer</td>\n",
       "      <td>United States</td>\n",
       "      <td>Concord</td>\n",
       "      <td>North Carolina</td>\n",
       "      <td>South</td>\n",
       "      <td>OFF-PA-10002365</td>\n",
       "      <td>Office Supplies</td>\n",
       "      <td>Paper</td>\n",
       "      <td>Xerox 1967</td>\n",
       "      <td>15.552</td>\n",
       "      <td>3</td>\n",
       "      <td>5.4432</td>\n",
       "    </tr>\n",
       "  </tbody>\n",
       "</table>\n",
       "</div>"
      ],
      "text/plain": [
       "   Row ID+O6G3A1:R6        Order ID Order Date  Ship Date       Ship Mode  \\\n",
       "0                 1  CA-2019-152156 2019-11-08 2019-11-11    Second Class   \n",
       "1                 2  CA-2019-152156 2019-11-08 2019-11-11    Second Class   \n",
       "2                 3  CA-2019-138688 2019-06-12 2019-06-16    Second Class   \n",
       "3                13  CA-2020-114412 2020-04-15 2020-04-20  Standard Class   \n",
       "\n",
       "  Customer ID    Customer Name    Segment        Country         City  \\\n",
       "0    CG-12520      Claire Gute   Consumer  United States    Henderson   \n",
       "1    CG-12520      Claire Gute   Consumer  United States    Henderson   \n",
       "2    DV-13045  Darrin Van Huff  Corporate  United States  Los Angeles   \n",
       "3    AA-10480     Andrew Allen   Consumer  United States      Concord   \n",
       "\n",
       "            State Region       Product ID         Category Sub-Category  \\\n",
       "0        Kentucky  South  FUR-BO-10001798        Furniture    Bookcases   \n",
       "1        Kentucky  South  FUR-CH-10000454        Furniture       Chairs   \n",
       "2      California   West  OFF-LA-10000240  Office Supplies       Labels   \n",
       "3  North Carolina  South  OFF-PA-10002365  Office Supplies        Paper   \n",
       "\n",
       "                                        Product Name    Sales  Quantity  \\\n",
       "0                  Bush Somerset Collection Bookcase  261.960         2   \n",
       "1  Hon Deluxe Fabric Upholstered Stacking Chairs,...  731.940         3   \n",
       "2  Self-Adhesive Address Labels for Typewriters b...   14.620         2   \n",
       "3                                         Xerox 1967   15.552         3   \n",
       "\n",
       "     Profit  \n",
       "0   41.9136  \n",
       "1  219.5820  \n",
       "2    6.8714  \n",
       "3    5.4432  "
      ]
     },
     "execution_count": 3,
     "metadata": {},
     "output_type": "execute_result"
    }
   ],
   "source": [
    "orders = pd.read_excel(libro, sheet_name = 'Orders')\n",
    "orders.head(4)"
   ]
  },
  {
   "cell_type": "markdown",
   "id": "4f4032ec",
   "metadata": {},
   "source": [
    "### Elimina las columnas categóricas con más de 4 clases"
   ]
  },
  {
   "cell_type": "code",
   "execution_count": 4,
   "id": "25a6a552",
   "metadata": {
    "scrolled": true
   },
   "outputs": [
    {
     "data": {
      "text/html": [
       "<div>\n",
       "<style scoped>\n",
       "    .dataframe tbody tr th:only-of-type {\n",
       "        vertical-align: middle;\n",
       "    }\n",
       "\n",
       "    .dataframe tbody tr th {\n",
       "        vertical-align: top;\n",
       "    }\n",
       "\n",
       "    .dataframe thead th {\n",
       "        text-align: right;\n",
       "    }\n",
       "</style>\n",
       "<table border=\"1\" class=\"dataframe\">\n",
       "  <thead>\n",
       "    <tr style=\"text-align: right;\">\n",
       "      <th></th>\n",
       "      <th>Order ID</th>\n",
       "      <th>Ship Mode</th>\n",
       "      <th>Customer ID</th>\n",
       "      <th>Customer Name</th>\n",
       "      <th>Segment</th>\n",
       "      <th>Country</th>\n",
       "      <th>City</th>\n",
       "      <th>State</th>\n",
       "      <th>Region</th>\n",
       "      <th>Product ID</th>\n",
       "      <th>Category</th>\n",
       "      <th>Sub-Category</th>\n",
       "      <th>Product Name</th>\n",
       "    </tr>\n",
       "  </thead>\n",
       "  <tbody>\n",
       "    <tr>\n",
       "      <th>count</th>\n",
       "      <td>5899</td>\n",
       "      <td>5899</td>\n",
       "      <td>5899</td>\n",
       "      <td>5899</td>\n",
       "      <td>5899</td>\n",
       "      <td>5899</td>\n",
       "      <td>5899</td>\n",
       "      <td>5899</td>\n",
       "      <td>5899</td>\n",
       "      <td>5899</td>\n",
       "      <td>5899</td>\n",
       "      <td>5899</td>\n",
       "      <td>5899</td>\n",
       "    </tr>\n",
       "    <tr>\n",
       "      <th>unique</th>\n",
       "      <td>3002</td>\n",
       "      <td>4</td>\n",
       "      <td>773</td>\n",
       "      <td>773</td>\n",
       "      <td>3</td>\n",
       "      <td>1</td>\n",
       "      <td>452</td>\n",
       "      <td>49</td>\n",
       "      <td>4</td>\n",
       "      <td>1755</td>\n",
       "      <td>3</td>\n",
       "      <td>17</td>\n",
       "      <td>1742</td>\n",
       "    </tr>\n",
       "    <tr>\n",
       "      <th>top</th>\n",
       "      <td>CA-2020-100111</td>\n",
       "      <td>Standard Class</td>\n",
       "      <td>EP-13915</td>\n",
       "      <td>Emily Phan</td>\n",
       "      <td>Consumer</td>\n",
       "      <td>United States</td>\n",
       "      <td>New York City</td>\n",
       "      <td>California</td>\n",
       "      <td>West</td>\n",
       "      <td>TEC-AC-10003832</td>\n",
       "      <td>Office Supplies</td>\n",
       "      <td>Binders</td>\n",
       "      <td>Easy-staple paper</td>\n",
       "    </tr>\n",
       "    <tr>\n",
       "      <th>freq</th>\n",
       "      <td>14</td>\n",
       "      <td>3449</td>\n",
       "      <td>27</td>\n",
       "      <td>27</td>\n",
       "      <td>2996</td>\n",
       "      <td>5899</td>\n",
       "      <td>563</td>\n",
       "      <td>1189</td>\n",
       "      <td>1900</td>\n",
       "      <td>15</td>\n",
       "      <td>3568</td>\n",
       "      <td>915</td>\n",
       "      <td>27</td>\n",
       "    </tr>\n",
       "  </tbody>\n",
       "</table>\n",
       "</div>"
      ],
      "text/plain": [
       "              Order ID       Ship Mode Customer ID Customer Name   Segment  \\\n",
       "count             5899            5899        5899          5899      5899   \n",
       "unique            3002               4         773           773         3   \n",
       "top     CA-2020-100111  Standard Class    EP-13915    Emily Phan  Consumer   \n",
       "freq                14            3449          27            27      2996   \n",
       "\n",
       "              Country           City       State Region       Product ID  \\\n",
       "count            5899           5899        5899   5899             5899   \n",
       "unique              1            452          49      4             1755   \n",
       "top     United States  New York City  California   West  TEC-AC-10003832   \n",
       "freq             5899            563        1189   1900               15   \n",
       "\n",
       "               Category Sub-Category       Product Name  \n",
       "count              5899         5899               5899  \n",
       "unique                3           17               1742  \n",
       "top     Office Supplies      Binders  Easy-staple paper  \n",
       "freq               3568          915                 27  "
      ]
     },
     "execution_count": 4,
     "metadata": {},
     "output_type": "execute_result"
    }
   ],
   "source": [
    "categoricas = orders.select_dtypes(include=['object'])\n",
    "categoricas.describe()"
   ]
  },
  {
   "cell_type": "markdown",
   "id": "eb11eb45",
   "metadata": {},
   "source": [
    "Veo que hay que eliminar 5 variables categóricas"
   ]
  },
  {
   "cell_type": "code",
   "execution_count": 5,
   "id": "a437e2a3",
   "metadata": {},
   "outputs": [
    {
     "data": {
      "text/plain": [
       "(5899, 19)"
      ]
     },
     "execution_count": 5,
     "metadata": {},
     "output_type": "execute_result"
    }
   ],
   "source": [
    "orders.shape"
   ]
  },
  {
   "cell_type": "code",
   "execution_count": 6,
   "id": "63f1603c",
   "metadata": {},
   "outputs": [
    {
     "data": {
      "text/plain": [
       "(5899, 14)"
      ]
     },
     "execution_count": 6,
     "metadata": {},
     "output_type": "execute_result"
    }
   ],
   "source": [
    "for i in categoricas.columns:\n",
    "    if categoricas[i].nunique()<5:\n",
    "        orders.drop([i],axis=1, inplace=True)\n",
    "orders.shape"
   ]
  },
  {
   "cell_type": "code",
   "execution_count": 38,
   "id": "699e14ff",
   "metadata": {},
   "outputs": [
    {
     "data": {
      "text/plain": [
       "(5899, 8)"
      ]
     },
     "execution_count": 38,
     "metadata": {},
     "output_type": "execute_result"
    }
   ],
   "source": [
    "categoricas.shape"
   ]
  },
  {
   "cell_type": "markdown",
   "id": "c9b35444",
   "metadata": {},
   "source": [
    "#### Divide los datos en 3 conjuntos: de entrenamiento 80%, validación 5% y test 15%. Usa \"sales\" como variable de salida"
   ]
  },
  {
   "cell_type": "code",
   "execution_count": 9,
   "id": "586de9ca",
   "metadata": {},
   "outputs": [],
   "source": [
    "from sklearn.model_selection import train_test_split"
   ]
  },
  {
   "cell_type": "code",
   "execution_count": 11,
   "id": "000fb671",
   "metadata": {},
   "outputs": [
    {
     "name": "stdout",
     "output_type": "stream",
     "text": [
      "(4719,)\n",
      "(295,)\n",
      "(885,)\n"
     ]
    }
   ],
   "source": [
    "x_train, x_val, y_train, y_val = train_test_split( orders.drop('Sales', axis=1),\n",
    "                                                   orders.Sales, train_size = 0.8, random_state =1234,\n",
    "                                                   shuffle=True)\n",
    "x_test, x_val, y_test, y_val = train_test_split( x_val, y_val, train_size = 0.75, random_state =1234,\n",
    "                                                   shuffle=True)\n",
    "print(y_train.shape)\n",
    "print(y_val.shape)\n",
    "print(y_test.shape)"
   ]
  },
  {
   "cell_type": "markdown",
   "id": "18355da1",
   "metadata": {},
   "source": [
    "Sobre las columnas numéicas: Aplica una imputación con el valor constante 0 y escala los datos de 0 a 1"
   ]
  },
  {
   "cell_type": "code",
   "execution_count": 19,
   "id": "0d5963cc",
   "metadata": {},
   "outputs": [],
   "source": [
    "from sklearn.preprocessing import MinMaxScaler\n",
    "from sklearn.compose import ColumnTransformer\n",
    "from sklearn.preprocessing import OneHotEncoder\n",
    "from sklearn.preprocessing import StandardScaler\n",
    "from sklearn.compose import make_column_selector\n",
    "from sklearn.pipeline import Pipeline\n",
    "from sklearn.impute import SimpleImputer"
   ]
  },
  {
   "cell_type": "code",
   "execution_count": 25,
   "id": "38ea1f41",
   "metadata": {},
   "outputs": [
    {
     "data": {
      "text/plain": [
       "['Row ID+O6G3A1:R6', 'Quantity', 'Profit']"
      ]
     },
     "execution_count": 25,
     "metadata": {},
     "output_type": "execute_result"
    }
   ],
   "source": [
    "numeric_cols =  x_train.select_dtypes(exclude=['object','datetime64[ns]']).columns.to_list()\n",
    "numeric_cols"
   ]
  },
  {
   "cell_type": "code",
   "execution_count": 26,
   "id": "759f5a19",
   "metadata": {},
   "outputs": [
    {
     "data": {
      "text/plain": [
       "['Row ID+O6G3A1:R6', 'Quantity', 'Profit']"
      ]
     },
     "execution_count": 26,
     "metadata": {},
     "output_type": "execute_result"
    }
   ],
   "source": [
    "cat_cols =  x_train.select_dtypes(include=['object']).columns.to_list()\n",
    "numeric_cols"
   ]
  },
  {
   "cell_type": "code",
   "execution_count": 22,
   "id": "0edb4640",
   "metadata": {},
   "outputs": [],
   "source": [
    "numerical_transformer = Pipeline( steps = [('imputer', \n",
    "                                          SimpleImputer(strategy='constant',\n",
    "                                                       fill_value = 0)),\n",
    "                                         ('scaler', MinMaxScaler())])"
   ]
  },
  {
   "cell_type": "markdown",
   "id": "64313681",
   "metadata": {},
   "source": [
    "Sobre las colummnas categóricas: Aplica una imputación con el valor más frecuente, binariza las columnas y elimina las columnas redundantes"
   ]
  },
  {
   "cell_type": "code",
   "execution_count": 27,
   "id": "ced769d6",
   "metadata": {},
   "outputs": [],
   "source": [
    "categorical_transformer = Pipeline( steps = [('imputer', \n",
    "                                          SimpleImputer(strategy='most_frequent')),\n",
    "                                         ('onehot', OneHotEncoder())])\n",
    "preprocessor = ColumnTransformer( transformers=[('numerical', numerical_transformer, \n",
    "                                                numeric_cols),\n",
    "                                               ('cat', categorical_transformer, cat_cols)])"
   ]
  },
  {
   "cell_type": "code",
   "execution_count": 31,
   "id": "07c4a68b",
   "metadata": {},
   "outputs": [
    {
     "ename": "ValueError",
     "evalue": "Found unknown categories ['CA-2020-139661', 'CA-2020-100580', 'US-2020-118598', 'CA-2019-149237', 'CA-2020-152079', 'CA-2020-160934', 'US-2019-121013', 'CA-2020-111269', 'CA-2020-130043', 'CA-2020-121741', 'CA-2019-114895', 'US-2020-126081', 'CA-2019-140774', 'CA-2020-131303', 'CA-2020-120936', 'US-2019-134761', 'CA-2019-113117', 'CA-2019-142398', 'CA-2019-121958', 'CA-2020-109183', 'CA-2019-119683', 'CA-2019-117912', 'CA-2020-107713', 'CA-2020-108287', 'US-2020-152569', 'CA-2020-147291', 'CA-2020-135783', 'CA-2019-105585', 'CA-2019-140928', 'US-2020-120147', 'CA-2019-158869', 'CA-2020-164959', 'CA-2020-140053', 'CA-2019-164924', 'CA-2020-127264', 'CA-2019-118934', 'CA-2020-151911', 'CA-2020-160087', 'US-2020-111241', 'CA-2020-168900', 'CA-2020-107314', 'CA-2020-158407', 'CA-2020-160899', 'CA-2019-149685', 'US-2019-142685', 'US-2019-131674', 'CA-2020-109211', 'CA-2020-117198', 'CA-2020-102659', 'CA-2019-163174', 'CA-2019-168830', 'CA-2020-164098', 'CA-2020-139437', 'CA-2020-117807', 'CA-2020-133074', 'CA-2019-166275', 'CA-2019-115917', 'CA-2019-130050', 'CA-2019-157511', 'CA-2020-153787', 'CA-2020-124114', 'US-2020-116491', 'CA-2020-114258', 'CA-2019-113656', 'CA-2020-144820', 'CA-2020-141201', 'US-2020-168613', 'CA-2020-146780', 'CA-2019-127250', 'CA-2020-148138', 'CA-2020-152660', 'CA-2020-120061', 'CA-2020-137918', 'CA-2020-167549', 'CA-2020-136826', 'CA-2020-145506', 'CA-2019-137176', 'CA-2019-130442', 'US-2019-163258', 'CA-2019-164091', 'CA-2019-161543', 'US-2020-120607', 'CA-2020-132262', 'US-2020-128447', 'CA-2019-166443', 'US-2019-134656', 'CA-2019-105753', 'US-2020-132927', 'CA-2020-132955', 'CA-2020-155089', 'CA-2019-102792', 'CA-2020-144036', 'CA-2020-141103', 'CA-2020-162712', 'CA-2019-139878', 'CA-2019-165484', 'CA-2020-104388', 'CA-2019-149314', 'CA-2020-100426', 'CA-2019-140935', 'CA-2019-125017', 'CA-2019-126795', 'CA-2019-108735', 'CA-2019-164490', 'US-2019-148334', 'CA-2020-118892', 'CA-2019-110499', 'US-2020-150070', 'US-2019-122182', 'CA-2019-146766', 'CA-2019-166373', 'CA-2020-122798', 'CA-2020-109589', 'US-2020-139577', 'CA-2020-107986', 'CA-2020-137582', 'CA-2020-104010', 'CA-2019-146171', 'CA-2020-100783', 'CA-2020-141782', 'CA-2019-127985', 'CA-2020-152436', 'CA-2020-117394', 'CA-2020-154074', 'CA-2020-141992', 'CA-2020-138156', 'CA-2020-121706', 'CA-2020-155712', 'CA-2020-110625', 'CA-2020-125878', 'US-2020-101784', 'CA-2020-103415', 'CA-2020-115364', 'CA-2020-104066', 'CA-2019-169026', 'CA-2019-107146', 'CA-2019-103464', 'CA-2020-109778', 'CA-2020-139493', 'CA-2020-168179', 'CA-2020-146269', 'CA-2020-143217', 'CA-2020-145737', 'CA-2020-143756', 'US-2019-114776', 'CA-2019-101623', 'CA-2020-161823', 'CA-2020-121804', 'CA-2019-140256', 'CA-2019-121993', 'CA-2020-108294', 'CA-2019-157259', 'CA-2019-127761', 'CA-2019-166429', 'CA-2019-137393', 'CA-2020-125990', 'CA-2019-139549', 'US-2020-143028', 'US-2019-146794', 'CA-2020-124828', 'CA-2019-143609', 'CA-2019-100083', 'CA-2019-123666', 'CA-2020-137022', 'US-2019-135720', 'US-2020-105697', 'CA-2020-161088', 'CA-2019-133669', 'CA-2019-164938', 'CA-2019-155747', 'CA-2020-137624', 'CA-2019-155845', 'CA-2019-124562', 'CA-2020-123372', 'CA-2019-139556', 'CA-2020-141572', 'US-2020-143175', 'CA-2019-103128', 'CA-2020-163097', 'CA-2019-101343', 'CA-2020-154410', 'CA-2020-111808', 'CA-2019-147585', 'CA-2019-148796', 'CA-2020-105193', 'CA-2020-151218', 'CA-2019-158260', 'CA-2020-159793', 'US-2019-150035', 'CA-2020-141138', 'CA-2019-130267', 'CA-2019-158043', 'CA-2020-169810', 'CA-2020-116288', 'CA-2020-101665', 'CA-2020-143126', 'CA-2020-136651', 'CA-2020-129581', 'CA-2020-146031', 'CA-2019-160479', 'CA-2019-137939', 'CA-2020-144568', 'CA-2020-107167', 'CA-2020-113418', 'CA-2019-131093', 'CA-2020-112984', 'CA-2019-108630', 'CA-2020-134285', 'CA-2019-147431', 'CA-2020-139717', 'CA-2019-112830', 'CA-2020-130309', 'CA-2020-145443', 'CA-2019-148201', 'CA-2019-157714', 'CA-2020-125101', 'CA-2019-152646', 'CA-2019-137204', 'CA-2020-110380', 'CA-2020-168403', 'US-2019-144477', 'CA-2019-147256', 'CA-2020-117156', 'US-2019-119270', 'CA-2020-153339', 'CA-2020-108910', 'CA-2020-137085', 'CA-2019-120257', 'CA-2019-121447', 'CA-2020-115322', 'US-2020-166394', 'CA-2019-147067', 'CA-2020-132346', 'US-2020-118157', 'CA-2019-132019', 'CA-2019-140634', 'US-2019-106313', 'CA-2019-153353', 'CA-2020-164000', 'CA-2019-132143', 'CA-2020-105326', 'CA-2019-101651', 'US-2019-146066', 'CA-2020-157273', 'US-2020-128951', 'CA-2020-106033', 'US-2020-146878', 'CA-2020-132437', 'CA-2020-142461', 'CA-2019-157686', 'CA-2019-113726', 'CA-2019-123015', 'CA-2020-102834', 'CA-2020-160724', 'CA-2019-102162', 'CA-2019-113803', 'CA-2020-152135', 'CA-2020-112039', 'CA-2020-105053', 'CA-2019-111696', 'CA-2019-121377', 'CA-2019-134544'] in column 0 during transform",
     "output_type": "error",
     "traceback": [
      "\u001b[1;31m---------------------------------------------------------------------------\u001b[0m",
      "\u001b[1;31mValueError\u001b[0m                                Traceback (most recent call last)",
      "Cell \u001b[1;32mIn[31], line 2\u001b[0m\n\u001b[0;32m      1\u001b[0m x_train_prep \u001b[38;5;241m=\u001b[39m preprocessor\u001b[38;5;241m.\u001b[39mfit_transform(x_train)\n\u001b[1;32m----> 2\u001b[0m x_test_prep \u001b[38;5;241m=\u001b[39m \u001b[43mpreprocessor\u001b[49m\u001b[38;5;241;43m.\u001b[39;49m\u001b[43mtransform\u001b[49m\u001b[43m(\u001b[49m\u001b[43mx_test\u001b[49m\u001b[43m)\u001b[49m\n\u001b[0;32m      3\u001b[0m x_val_prep \u001b[38;5;241m=\u001b[39m preprocessor\u001b[38;5;241m.\u001b[39mtransform(x_val)\n",
      "File \u001b[1;32m~\\anaconda3\\lib\\site-packages\\sklearn\\utils\\_set_output.py:142\u001b[0m, in \u001b[0;36m_wrap_method_output.<locals>.wrapped\u001b[1;34m(self, X, *args, **kwargs)\u001b[0m\n\u001b[0;32m    140\u001b[0m \u001b[38;5;129m@wraps\u001b[39m(f)\n\u001b[0;32m    141\u001b[0m \u001b[38;5;28;01mdef\u001b[39;00m \u001b[38;5;21mwrapped\u001b[39m(\u001b[38;5;28mself\u001b[39m, X, \u001b[38;5;241m*\u001b[39margs, \u001b[38;5;241m*\u001b[39m\u001b[38;5;241m*\u001b[39mkwargs):\n\u001b[1;32m--> 142\u001b[0m     data_to_wrap \u001b[38;5;241m=\u001b[39m f(\u001b[38;5;28mself\u001b[39m, X, \u001b[38;5;241m*\u001b[39margs, \u001b[38;5;241m*\u001b[39m\u001b[38;5;241m*\u001b[39mkwargs)\n\u001b[0;32m    143\u001b[0m     \u001b[38;5;28;01mif\u001b[39;00m \u001b[38;5;28misinstance\u001b[39m(data_to_wrap, \u001b[38;5;28mtuple\u001b[39m):\n\u001b[0;32m    144\u001b[0m         \u001b[38;5;66;03m# only wrap the first output for cross decomposition\u001b[39;00m\n\u001b[0;32m    145\u001b[0m         \u001b[38;5;28;01mreturn\u001b[39;00m (\n\u001b[0;32m    146\u001b[0m             _wrap_data_with_container(method, data_to_wrap[\u001b[38;5;241m0\u001b[39m], X, \u001b[38;5;28mself\u001b[39m),\n\u001b[0;32m    147\u001b[0m             \u001b[38;5;241m*\u001b[39mdata_to_wrap[\u001b[38;5;241m1\u001b[39m:],\n\u001b[0;32m    148\u001b[0m         )\n",
      "File \u001b[1;32m~\\anaconda3\\lib\\site-packages\\sklearn\\compose\\_column_transformer.py:800\u001b[0m, in \u001b[0;36mColumnTransformer.transform\u001b[1;34m(self, X)\u001b[0m\n\u001b[0;32m    795\u001b[0m \u001b[38;5;28;01melse\u001b[39;00m:\n\u001b[0;32m    796\u001b[0m     \u001b[38;5;66;03m# ndarray was used for fitting or transforming, thus we only\u001b[39;00m\n\u001b[0;32m    797\u001b[0m     \u001b[38;5;66;03m# check that n_features_in_ is consistent\u001b[39;00m\n\u001b[0;32m    798\u001b[0m     \u001b[38;5;28mself\u001b[39m\u001b[38;5;241m.\u001b[39m_check_n_features(X, reset\u001b[38;5;241m=\u001b[39m\u001b[38;5;28;01mFalse\u001b[39;00m)\n\u001b[1;32m--> 800\u001b[0m Xs \u001b[38;5;241m=\u001b[39m \u001b[38;5;28;43mself\u001b[39;49m\u001b[38;5;241;43m.\u001b[39;49m\u001b[43m_fit_transform\u001b[49m\u001b[43m(\u001b[49m\n\u001b[0;32m    801\u001b[0m \u001b[43m    \u001b[49m\u001b[43mX\u001b[49m\u001b[43m,\u001b[49m\n\u001b[0;32m    802\u001b[0m \u001b[43m    \u001b[49m\u001b[38;5;28;43;01mNone\u001b[39;49;00m\u001b[43m,\u001b[49m\n\u001b[0;32m    803\u001b[0m \u001b[43m    \u001b[49m\u001b[43m_transform_one\u001b[49m\u001b[43m,\u001b[49m\n\u001b[0;32m    804\u001b[0m \u001b[43m    \u001b[49m\u001b[43mfitted\u001b[49m\u001b[38;5;241;43m=\u001b[39;49m\u001b[38;5;28;43;01mTrue\u001b[39;49;00m\u001b[43m,\u001b[49m\n\u001b[0;32m    805\u001b[0m \u001b[43m    \u001b[49m\u001b[43mcolumn_as_strings\u001b[49m\u001b[38;5;241;43m=\u001b[39;49m\u001b[43mfit_dataframe_and_transform_dataframe\u001b[49m\u001b[43m,\u001b[49m\n\u001b[0;32m    806\u001b[0m \u001b[43m\u001b[49m\u001b[43m)\u001b[49m\n\u001b[0;32m    807\u001b[0m \u001b[38;5;28mself\u001b[39m\u001b[38;5;241m.\u001b[39m_validate_output(Xs)\n\u001b[0;32m    809\u001b[0m \u001b[38;5;28;01mif\u001b[39;00m \u001b[38;5;129;01mnot\u001b[39;00m Xs:\n\u001b[0;32m    810\u001b[0m     \u001b[38;5;66;03m# All transformers are None\u001b[39;00m\n",
      "File \u001b[1;32m~\\anaconda3\\lib\\site-packages\\sklearn\\compose\\_column_transformer.py:658\u001b[0m, in \u001b[0;36mColumnTransformer._fit_transform\u001b[1;34m(self, X, y, func, fitted, column_as_strings)\u001b[0m\n\u001b[0;32m    652\u001b[0m transformers \u001b[38;5;241m=\u001b[39m \u001b[38;5;28mlist\u001b[39m(\n\u001b[0;32m    653\u001b[0m     \u001b[38;5;28mself\u001b[39m\u001b[38;5;241m.\u001b[39m_iter(\n\u001b[0;32m    654\u001b[0m         fitted\u001b[38;5;241m=\u001b[39mfitted, replace_strings\u001b[38;5;241m=\u001b[39m\u001b[38;5;28;01mTrue\u001b[39;00m, column_as_strings\u001b[38;5;241m=\u001b[39mcolumn_as_strings\n\u001b[0;32m    655\u001b[0m     )\n\u001b[0;32m    656\u001b[0m )\n\u001b[0;32m    657\u001b[0m \u001b[38;5;28;01mtry\u001b[39;00m:\n\u001b[1;32m--> 658\u001b[0m     \u001b[38;5;28;01mreturn\u001b[39;00m \u001b[43mParallel\u001b[49m\u001b[43m(\u001b[49m\u001b[43mn_jobs\u001b[49m\u001b[38;5;241;43m=\u001b[39;49m\u001b[38;5;28;43mself\u001b[39;49m\u001b[38;5;241;43m.\u001b[39;49m\u001b[43mn_jobs\u001b[49m\u001b[43m)\u001b[49m\u001b[43m(\u001b[49m\n\u001b[0;32m    659\u001b[0m \u001b[43m        \u001b[49m\u001b[43mdelayed\u001b[49m\u001b[43m(\u001b[49m\u001b[43mfunc\u001b[49m\u001b[43m)\u001b[49m\u001b[43m(\u001b[49m\n\u001b[0;32m    660\u001b[0m \u001b[43m            \u001b[49m\u001b[43mtransformer\u001b[49m\u001b[38;5;241;43m=\u001b[39;49m\u001b[43mclone\u001b[49m\u001b[43m(\u001b[49m\u001b[43mtrans\u001b[49m\u001b[43m)\u001b[49m\u001b[43m \u001b[49m\u001b[38;5;28;43;01mif\u001b[39;49;00m\u001b[43m \u001b[49m\u001b[38;5;129;43;01mnot\u001b[39;49;00m\u001b[43m \u001b[49m\u001b[43mfitted\u001b[49m\u001b[43m \u001b[49m\u001b[38;5;28;43;01melse\u001b[39;49;00m\u001b[43m \u001b[49m\u001b[43mtrans\u001b[49m\u001b[43m,\u001b[49m\n\u001b[0;32m    661\u001b[0m \u001b[43m            \u001b[49m\u001b[43mX\u001b[49m\u001b[38;5;241;43m=\u001b[39;49m\u001b[43m_safe_indexing\u001b[49m\u001b[43m(\u001b[49m\u001b[43mX\u001b[49m\u001b[43m,\u001b[49m\u001b[43m \u001b[49m\u001b[43mcolumn\u001b[49m\u001b[43m,\u001b[49m\u001b[43m \u001b[49m\u001b[43maxis\u001b[49m\u001b[38;5;241;43m=\u001b[39;49m\u001b[38;5;241;43m1\u001b[39;49m\u001b[43m)\u001b[49m\u001b[43m,\u001b[49m\n\u001b[0;32m    662\u001b[0m \u001b[43m            \u001b[49m\u001b[43my\u001b[49m\u001b[38;5;241;43m=\u001b[39;49m\u001b[43my\u001b[49m\u001b[43m,\u001b[49m\n\u001b[0;32m    663\u001b[0m \u001b[43m            \u001b[49m\u001b[43mweight\u001b[49m\u001b[38;5;241;43m=\u001b[39;49m\u001b[43mweight\u001b[49m\u001b[43m,\u001b[49m\n\u001b[0;32m    664\u001b[0m \u001b[43m            \u001b[49m\u001b[43mmessage_clsname\u001b[49m\u001b[38;5;241;43m=\u001b[39;49m\u001b[38;5;124;43m\"\u001b[39;49m\u001b[38;5;124;43mColumnTransformer\u001b[39;49m\u001b[38;5;124;43m\"\u001b[39;49m\u001b[43m,\u001b[49m\n\u001b[0;32m    665\u001b[0m \u001b[43m            \u001b[49m\u001b[43mmessage\u001b[49m\u001b[38;5;241;43m=\u001b[39;49m\u001b[38;5;28;43mself\u001b[39;49m\u001b[38;5;241;43m.\u001b[39;49m\u001b[43m_log_message\u001b[49m\u001b[43m(\u001b[49m\u001b[43mname\u001b[49m\u001b[43m,\u001b[49m\u001b[43m \u001b[49m\u001b[43midx\u001b[49m\u001b[43m,\u001b[49m\u001b[43m \u001b[49m\u001b[38;5;28;43mlen\u001b[39;49m\u001b[43m(\u001b[49m\u001b[43mtransformers\u001b[49m\u001b[43m)\u001b[49m\u001b[43m)\u001b[49m\u001b[43m,\u001b[49m\n\u001b[0;32m    666\u001b[0m \u001b[43m        \u001b[49m\u001b[43m)\u001b[49m\n\u001b[0;32m    667\u001b[0m \u001b[43m        \u001b[49m\u001b[38;5;28;43;01mfor\u001b[39;49;00m\u001b[43m \u001b[49m\u001b[43midx\u001b[49m\u001b[43m,\u001b[49m\u001b[43m \u001b[49m\u001b[43m(\u001b[49m\u001b[43mname\u001b[49m\u001b[43m,\u001b[49m\u001b[43m \u001b[49m\u001b[43mtrans\u001b[49m\u001b[43m,\u001b[49m\u001b[43m \u001b[49m\u001b[43mcolumn\u001b[49m\u001b[43m,\u001b[49m\u001b[43m \u001b[49m\u001b[43mweight\u001b[49m\u001b[43m)\u001b[49m\u001b[43m \u001b[49m\u001b[38;5;129;43;01min\u001b[39;49;00m\u001b[43m \u001b[49m\u001b[38;5;28;43menumerate\u001b[39;49m\u001b[43m(\u001b[49m\u001b[43mtransformers\u001b[49m\u001b[43m,\u001b[49m\u001b[43m \u001b[49m\u001b[38;5;241;43m1\u001b[39;49m\u001b[43m)\u001b[49m\n\u001b[0;32m    668\u001b[0m \u001b[43m    \u001b[49m\u001b[43m)\u001b[49m\n\u001b[0;32m    669\u001b[0m \u001b[38;5;28;01mexcept\u001b[39;00m \u001b[38;5;167;01mValueError\u001b[39;00m \u001b[38;5;28;01mas\u001b[39;00m e:\n\u001b[0;32m    670\u001b[0m     \u001b[38;5;28;01mif\u001b[39;00m \u001b[38;5;124m\"\u001b[39m\u001b[38;5;124mExpected 2D array, got 1D array instead\u001b[39m\u001b[38;5;124m\"\u001b[39m \u001b[38;5;129;01min\u001b[39;00m \u001b[38;5;28mstr\u001b[39m(e):\n",
      "File \u001b[1;32m~\\anaconda3\\lib\\site-packages\\sklearn\\utils\\parallel.py:63\u001b[0m, in \u001b[0;36mParallel.__call__\u001b[1;34m(self, iterable)\u001b[0m\n\u001b[0;32m     58\u001b[0m config \u001b[38;5;241m=\u001b[39m get_config()\n\u001b[0;32m     59\u001b[0m iterable_with_config \u001b[38;5;241m=\u001b[39m (\n\u001b[0;32m     60\u001b[0m     (_with_config(delayed_func, config), args, kwargs)\n\u001b[0;32m     61\u001b[0m     \u001b[38;5;28;01mfor\u001b[39;00m delayed_func, args, kwargs \u001b[38;5;129;01min\u001b[39;00m iterable\n\u001b[0;32m     62\u001b[0m )\n\u001b[1;32m---> 63\u001b[0m \u001b[38;5;28;01mreturn\u001b[39;00m \u001b[38;5;28;43msuper\u001b[39;49m\u001b[43m(\u001b[49m\u001b[43m)\u001b[49m\u001b[38;5;241;43m.\u001b[39;49m\u001b[38;5;21;43m__call__\u001b[39;49m\u001b[43m(\u001b[49m\u001b[43miterable_with_config\u001b[49m\u001b[43m)\u001b[49m\n",
      "File \u001b[1;32m~\\anaconda3\\lib\\site-packages\\joblib\\parallel.py:1088\u001b[0m, in \u001b[0;36mParallel.__call__\u001b[1;34m(self, iterable)\u001b[0m\n\u001b[0;32m   1085\u001b[0m \u001b[38;5;28;01mif\u001b[39;00m \u001b[38;5;28mself\u001b[39m\u001b[38;5;241m.\u001b[39mdispatch_one_batch(iterator):\n\u001b[0;32m   1086\u001b[0m     \u001b[38;5;28mself\u001b[39m\u001b[38;5;241m.\u001b[39m_iterating \u001b[38;5;241m=\u001b[39m \u001b[38;5;28mself\u001b[39m\u001b[38;5;241m.\u001b[39m_original_iterator \u001b[38;5;129;01mis\u001b[39;00m \u001b[38;5;129;01mnot\u001b[39;00m \u001b[38;5;28;01mNone\u001b[39;00m\n\u001b[1;32m-> 1088\u001b[0m \u001b[38;5;28;01mwhile\u001b[39;00m \u001b[38;5;28;43mself\u001b[39;49m\u001b[38;5;241;43m.\u001b[39;49m\u001b[43mdispatch_one_batch\u001b[49m\u001b[43m(\u001b[49m\u001b[43miterator\u001b[49m\u001b[43m)\u001b[49m:\n\u001b[0;32m   1089\u001b[0m     \u001b[38;5;28;01mpass\u001b[39;00m\n\u001b[0;32m   1091\u001b[0m \u001b[38;5;28;01mif\u001b[39;00m pre_dispatch \u001b[38;5;241m==\u001b[39m \u001b[38;5;124m\"\u001b[39m\u001b[38;5;124mall\u001b[39m\u001b[38;5;124m\"\u001b[39m \u001b[38;5;129;01mor\u001b[39;00m n_jobs \u001b[38;5;241m==\u001b[39m \u001b[38;5;241m1\u001b[39m:\n\u001b[0;32m   1092\u001b[0m     \u001b[38;5;66;03m# The iterable was consumed all at once by the above for loop.\u001b[39;00m\n\u001b[0;32m   1093\u001b[0m     \u001b[38;5;66;03m# No need to wait for async callbacks to trigger to\u001b[39;00m\n\u001b[0;32m   1094\u001b[0m     \u001b[38;5;66;03m# consumption.\u001b[39;00m\n",
      "File \u001b[1;32m~\\anaconda3\\lib\\site-packages\\joblib\\parallel.py:901\u001b[0m, in \u001b[0;36mParallel.dispatch_one_batch\u001b[1;34m(self, iterator)\u001b[0m\n\u001b[0;32m    899\u001b[0m     \u001b[38;5;28;01mreturn\u001b[39;00m \u001b[38;5;28;01mFalse\u001b[39;00m\n\u001b[0;32m    900\u001b[0m \u001b[38;5;28;01melse\u001b[39;00m:\n\u001b[1;32m--> 901\u001b[0m     \u001b[38;5;28;43mself\u001b[39;49m\u001b[38;5;241;43m.\u001b[39;49m\u001b[43m_dispatch\u001b[49m\u001b[43m(\u001b[49m\u001b[43mtasks\u001b[49m\u001b[43m)\u001b[49m\n\u001b[0;32m    902\u001b[0m     \u001b[38;5;28;01mreturn\u001b[39;00m \u001b[38;5;28;01mTrue\u001b[39;00m\n",
      "File \u001b[1;32m~\\anaconda3\\lib\\site-packages\\joblib\\parallel.py:819\u001b[0m, in \u001b[0;36mParallel._dispatch\u001b[1;34m(self, batch)\u001b[0m\n\u001b[0;32m    817\u001b[0m \u001b[38;5;28;01mwith\u001b[39;00m \u001b[38;5;28mself\u001b[39m\u001b[38;5;241m.\u001b[39m_lock:\n\u001b[0;32m    818\u001b[0m     job_idx \u001b[38;5;241m=\u001b[39m \u001b[38;5;28mlen\u001b[39m(\u001b[38;5;28mself\u001b[39m\u001b[38;5;241m.\u001b[39m_jobs)\n\u001b[1;32m--> 819\u001b[0m     job \u001b[38;5;241m=\u001b[39m \u001b[38;5;28;43mself\u001b[39;49m\u001b[38;5;241;43m.\u001b[39;49m\u001b[43m_backend\u001b[49m\u001b[38;5;241;43m.\u001b[39;49m\u001b[43mapply_async\u001b[49m\u001b[43m(\u001b[49m\u001b[43mbatch\u001b[49m\u001b[43m,\u001b[49m\u001b[43m \u001b[49m\u001b[43mcallback\u001b[49m\u001b[38;5;241;43m=\u001b[39;49m\u001b[43mcb\u001b[49m\u001b[43m)\u001b[49m\n\u001b[0;32m    820\u001b[0m     \u001b[38;5;66;03m# A job can complete so quickly than its callback is\u001b[39;00m\n\u001b[0;32m    821\u001b[0m     \u001b[38;5;66;03m# called before we get here, causing self._jobs to\u001b[39;00m\n\u001b[0;32m    822\u001b[0m     \u001b[38;5;66;03m# grow. To ensure correct results ordering, .insert is\u001b[39;00m\n\u001b[0;32m    823\u001b[0m     \u001b[38;5;66;03m# used (rather than .append) in the following line\u001b[39;00m\n\u001b[0;32m    824\u001b[0m     \u001b[38;5;28mself\u001b[39m\u001b[38;5;241m.\u001b[39m_jobs\u001b[38;5;241m.\u001b[39minsert(job_idx, job)\n",
      "File \u001b[1;32m~\\anaconda3\\lib\\site-packages\\joblib\\_parallel_backends.py:208\u001b[0m, in \u001b[0;36mSequentialBackend.apply_async\u001b[1;34m(self, func, callback)\u001b[0m\n\u001b[0;32m    206\u001b[0m \u001b[38;5;28;01mdef\u001b[39;00m \u001b[38;5;21mapply_async\u001b[39m(\u001b[38;5;28mself\u001b[39m, func, callback\u001b[38;5;241m=\u001b[39m\u001b[38;5;28;01mNone\u001b[39;00m):\n\u001b[0;32m    207\u001b[0m     \u001b[38;5;124;03m\"\"\"Schedule a func to be run\"\"\"\u001b[39;00m\n\u001b[1;32m--> 208\u001b[0m     result \u001b[38;5;241m=\u001b[39m \u001b[43mImmediateResult\u001b[49m\u001b[43m(\u001b[49m\u001b[43mfunc\u001b[49m\u001b[43m)\u001b[49m\n\u001b[0;32m    209\u001b[0m     \u001b[38;5;28;01mif\u001b[39;00m callback:\n\u001b[0;32m    210\u001b[0m         callback(result)\n",
      "File \u001b[1;32m~\\anaconda3\\lib\\site-packages\\joblib\\_parallel_backends.py:597\u001b[0m, in \u001b[0;36mImmediateResult.__init__\u001b[1;34m(self, batch)\u001b[0m\n\u001b[0;32m    594\u001b[0m \u001b[38;5;28;01mdef\u001b[39;00m \u001b[38;5;21m__init__\u001b[39m(\u001b[38;5;28mself\u001b[39m, batch):\n\u001b[0;32m    595\u001b[0m     \u001b[38;5;66;03m# Don't delay the application, to avoid keeping the input\u001b[39;00m\n\u001b[0;32m    596\u001b[0m     \u001b[38;5;66;03m# arguments in memory\u001b[39;00m\n\u001b[1;32m--> 597\u001b[0m     \u001b[38;5;28mself\u001b[39m\u001b[38;5;241m.\u001b[39mresults \u001b[38;5;241m=\u001b[39m \u001b[43mbatch\u001b[49m\u001b[43m(\u001b[49m\u001b[43m)\u001b[49m\n",
      "File \u001b[1;32m~\\anaconda3\\lib\\site-packages\\joblib\\parallel.py:288\u001b[0m, in \u001b[0;36mBatchedCalls.__call__\u001b[1;34m(self)\u001b[0m\n\u001b[0;32m    284\u001b[0m \u001b[38;5;28;01mdef\u001b[39;00m \u001b[38;5;21m__call__\u001b[39m(\u001b[38;5;28mself\u001b[39m):\n\u001b[0;32m    285\u001b[0m     \u001b[38;5;66;03m# Set the default nested backend to self._backend but do not set the\u001b[39;00m\n\u001b[0;32m    286\u001b[0m     \u001b[38;5;66;03m# change the default number of processes to -1\u001b[39;00m\n\u001b[0;32m    287\u001b[0m     \u001b[38;5;28;01mwith\u001b[39;00m parallel_backend(\u001b[38;5;28mself\u001b[39m\u001b[38;5;241m.\u001b[39m_backend, n_jobs\u001b[38;5;241m=\u001b[39m\u001b[38;5;28mself\u001b[39m\u001b[38;5;241m.\u001b[39m_n_jobs):\n\u001b[1;32m--> 288\u001b[0m         \u001b[38;5;28;01mreturn\u001b[39;00m [func(\u001b[38;5;241m*\u001b[39margs, \u001b[38;5;241m*\u001b[39m\u001b[38;5;241m*\u001b[39mkwargs)\n\u001b[0;32m    289\u001b[0m                 \u001b[38;5;28;01mfor\u001b[39;00m func, args, kwargs \u001b[38;5;129;01min\u001b[39;00m \u001b[38;5;28mself\u001b[39m\u001b[38;5;241m.\u001b[39mitems]\n",
      "File \u001b[1;32m~\\anaconda3\\lib\\site-packages\\joblib\\parallel.py:288\u001b[0m, in \u001b[0;36m<listcomp>\u001b[1;34m(.0)\u001b[0m\n\u001b[0;32m    284\u001b[0m \u001b[38;5;28;01mdef\u001b[39;00m \u001b[38;5;21m__call__\u001b[39m(\u001b[38;5;28mself\u001b[39m):\n\u001b[0;32m    285\u001b[0m     \u001b[38;5;66;03m# Set the default nested backend to self._backend but do not set the\u001b[39;00m\n\u001b[0;32m    286\u001b[0m     \u001b[38;5;66;03m# change the default number of processes to -1\u001b[39;00m\n\u001b[0;32m    287\u001b[0m     \u001b[38;5;28;01mwith\u001b[39;00m parallel_backend(\u001b[38;5;28mself\u001b[39m\u001b[38;5;241m.\u001b[39m_backend, n_jobs\u001b[38;5;241m=\u001b[39m\u001b[38;5;28mself\u001b[39m\u001b[38;5;241m.\u001b[39m_n_jobs):\n\u001b[1;32m--> 288\u001b[0m         \u001b[38;5;28;01mreturn\u001b[39;00m [func(\u001b[38;5;241m*\u001b[39margs, \u001b[38;5;241m*\u001b[39m\u001b[38;5;241m*\u001b[39mkwargs)\n\u001b[0;32m    289\u001b[0m                 \u001b[38;5;28;01mfor\u001b[39;00m func, args, kwargs \u001b[38;5;129;01min\u001b[39;00m \u001b[38;5;28mself\u001b[39m\u001b[38;5;241m.\u001b[39mitems]\n",
      "File \u001b[1;32m~\\anaconda3\\lib\\site-packages\\sklearn\\utils\\parallel.py:123\u001b[0m, in \u001b[0;36m_FuncWrapper.__call__\u001b[1;34m(self, *args, **kwargs)\u001b[0m\n\u001b[0;32m    121\u001b[0m     config \u001b[38;5;241m=\u001b[39m {}\n\u001b[0;32m    122\u001b[0m \u001b[38;5;28;01mwith\u001b[39;00m config_context(\u001b[38;5;241m*\u001b[39m\u001b[38;5;241m*\u001b[39mconfig):\n\u001b[1;32m--> 123\u001b[0m     \u001b[38;5;28;01mreturn\u001b[39;00m \u001b[38;5;28mself\u001b[39m\u001b[38;5;241m.\u001b[39mfunction(\u001b[38;5;241m*\u001b[39margs, \u001b[38;5;241m*\u001b[39m\u001b[38;5;241m*\u001b[39mkwargs)\n",
      "File \u001b[1;32m~\\anaconda3\\lib\\site-packages\\sklearn\\pipeline.py:876\u001b[0m, in \u001b[0;36m_transform_one\u001b[1;34m(transformer, X, y, weight, **fit_params)\u001b[0m\n\u001b[0;32m    875\u001b[0m \u001b[38;5;28;01mdef\u001b[39;00m \u001b[38;5;21m_transform_one\u001b[39m(transformer, X, y, weight, \u001b[38;5;241m*\u001b[39m\u001b[38;5;241m*\u001b[39mfit_params):\n\u001b[1;32m--> 876\u001b[0m     res \u001b[38;5;241m=\u001b[39m \u001b[43mtransformer\u001b[49m\u001b[38;5;241;43m.\u001b[39;49m\u001b[43mtransform\u001b[49m\u001b[43m(\u001b[49m\u001b[43mX\u001b[49m\u001b[43m)\u001b[49m\n\u001b[0;32m    877\u001b[0m     \u001b[38;5;66;03m# if we have a weight for this transformer, multiply output\u001b[39;00m\n\u001b[0;32m    878\u001b[0m     \u001b[38;5;28;01mif\u001b[39;00m weight \u001b[38;5;129;01mis\u001b[39;00m \u001b[38;5;28;01mNone\u001b[39;00m:\n",
      "File \u001b[1;32m~\\anaconda3\\lib\\site-packages\\sklearn\\pipeline.py:658\u001b[0m, in \u001b[0;36mPipeline.transform\u001b[1;34m(self, X)\u001b[0m\n\u001b[0;32m    656\u001b[0m Xt \u001b[38;5;241m=\u001b[39m X\n\u001b[0;32m    657\u001b[0m \u001b[38;5;28;01mfor\u001b[39;00m _, _, transform \u001b[38;5;129;01min\u001b[39;00m \u001b[38;5;28mself\u001b[39m\u001b[38;5;241m.\u001b[39m_iter():\n\u001b[1;32m--> 658\u001b[0m     Xt \u001b[38;5;241m=\u001b[39m \u001b[43mtransform\u001b[49m\u001b[38;5;241;43m.\u001b[39;49m\u001b[43mtransform\u001b[49m\u001b[43m(\u001b[49m\u001b[43mXt\u001b[49m\u001b[43m)\u001b[49m\n\u001b[0;32m    659\u001b[0m \u001b[38;5;28;01mreturn\u001b[39;00m Xt\n",
      "File \u001b[1;32m~\\anaconda3\\lib\\site-packages\\sklearn\\utils\\_set_output.py:142\u001b[0m, in \u001b[0;36m_wrap_method_output.<locals>.wrapped\u001b[1;34m(self, X, *args, **kwargs)\u001b[0m\n\u001b[0;32m    140\u001b[0m \u001b[38;5;129m@wraps\u001b[39m(f)\n\u001b[0;32m    141\u001b[0m \u001b[38;5;28;01mdef\u001b[39;00m \u001b[38;5;21mwrapped\u001b[39m(\u001b[38;5;28mself\u001b[39m, X, \u001b[38;5;241m*\u001b[39margs, \u001b[38;5;241m*\u001b[39m\u001b[38;5;241m*\u001b[39mkwargs):\n\u001b[1;32m--> 142\u001b[0m     data_to_wrap \u001b[38;5;241m=\u001b[39m f(\u001b[38;5;28mself\u001b[39m, X, \u001b[38;5;241m*\u001b[39margs, \u001b[38;5;241m*\u001b[39m\u001b[38;5;241m*\u001b[39mkwargs)\n\u001b[0;32m    143\u001b[0m     \u001b[38;5;28;01mif\u001b[39;00m \u001b[38;5;28misinstance\u001b[39m(data_to_wrap, \u001b[38;5;28mtuple\u001b[39m):\n\u001b[0;32m    144\u001b[0m         \u001b[38;5;66;03m# only wrap the first output for cross decomposition\u001b[39;00m\n\u001b[0;32m    145\u001b[0m         \u001b[38;5;28;01mreturn\u001b[39;00m (\n\u001b[0;32m    146\u001b[0m             _wrap_data_with_container(method, data_to_wrap[\u001b[38;5;241m0\u001b[39m], X, \u001b[38;5;28mself\u001b[39m),\n\u001b[0;32m    147\u001b[0m             \u001b[38;5;241m*\u001b[39mdata_to_wrap[\u001b[38;5;241m1\u001b[39m:],\n\u001b[0;32m    148\u001b[0m         )\n",
      "File \u001b[1;32m~\\anaconda3\\lib\\site-packages\\sklearn\\preprocessing\\_encoders.py:877\u001b[0m, in \u001b[0;36mOneHotEncoder.transform\u001b[1;34m(self, X)\u001b[0m\n\u001b[0;32m    872\u001b[0m \u001b[38;5;66;03m# validation of X happens in _check_X called by _transform\u001b[39;00m\n\u001b[0;32m    873\u001b[0m warn_on_unknown \u001b[38;5;241m=\u001b[39m \u001b[38;5;28mself\u001b[39m\u001b[38;5;241m.\u001b[39mdrop \u001b[38;5;129;01mis\u001b[39;00m \u001b[38;5;129;01mnot\u001b[39;00m \u001b[38;5;28;01mNone\u001b[39;00m \u001b[38;5;129;01mand\u001b[39;00m \u001b[38;5;28mself\u001b[39m\u001b[38;5;241m.\u001b[39mhandle_unknown \u001b[38;5;129;01min\u001b[39;00m {\n\u001b[0;32m    874\u001b[0m     \u001b[38;5;124m\"\u001b[39m\u001b[38;5;124mignore\u001b[39m\u001b[38;5;124m\"\u001b[39m,\n\u001b[0;32m    875\u001b[0m     \u001b[38;5;124m\"\u001b[39m\u001b[38;5;124minfrequent_if_exist\u001b[39m\u001b[38;5;124m\"\u001b[39m,\n\u001b[0;32m    876\u001b[0m }\n\u001b[1;32m--> 877\u001b[0m X_int, X_mask \u001b[38;5;241m=\u001b[39m \u001b[38;5;28;43mself\u001b[39;49m\u001b[38;5;241;43m.\u001b[39;49m\u001b[43m_transform\u001b[49m\u001b[43m(\u001b[49m\n\u001b[0;32m    878\u001b[0m \u001b[43m    \u001b[49m\u001b[43mX\u001b[49m\u001b[43m,\u001b[49m\n\u001b[0;32m    879\u001b[0m \u001b[43m    \u001b[49m\u001b[43mhandle_unknown\u001b[49m\u001b[38;5;241;43m=\u001b[39;49m\u001b[38;5;28;43mself\u001b[39;49m\u001b[38;5;241;43m.\u001b[39;49m\u001b[43mhandle_unknown\u001b[49m\u001b[43m,\u001b[49m\n\u001b[0;32m    880\u001b[0m \u001b[43m    \u001b[49m\u001b[43mforce_all_finite\u001b[49m\u001b[38;5;241;43m=\u001b[39;49m\u001b[38;5;124;43m\"\u001b[39;49m\u001b[38;5;124;43mallow-nan\u001b[39;49m\u001b[38;5;124;43m\"\u001b[39;49m\u001b[43m,\u001b[49m\n\u001b[0;32m    881\u001b[0m \u001b[43m    \u001b[49m\u001b[43mwarn_on_unknown\u001b[49m\u001b[38;5;241;43m=\u001b[39;49m\u001b[43mwarn_on_unknown\u001b[49m\u001b[43m,\u001b[49m\n\u001b[0;32m    882\u001b[0m \u001b[43m\u001b[49m\u001b[43m)\u001b[49m\n\u001b[0;32m    883\u001b[0m \u001b[38;5;28mself\u001b[39m\u001b[38;5;241m.\u001b[39m_map_infrequent_categories(X_int, X_mask)\n\u001b[0;32m    885\u001b[0m n_samples, n_features \u001b[38;5;241m=\u001b[39m X_int\u001b[38;5;241m.\u001b[39mshape\n",
      "File \u001b[1;32m~\\anaconda3\\lib\\site-packages\\sklearn\\preprocessing\\_encoders.py:174\u001b[0m, in \u001b[0;36m_BaseEncoder._transform\u001b[1;34m(self, X, handle_unknown, force_all_finite, warn_on_unknown)\u001b[0m\n\u001b[0;32m    169\u001b[0m \u001b[38;5;28;01mif\u001b[39;00m handle_unknown \u001b[38;5;241m==\u001b[39m \u001b[38;5;124m\"\u001b[39m\u001b[38;5;124merror\u001b[39m\u001b[38;5;124m\"\u001b[39m:\n\u001b[0;32m    170\u001b[0m     msg \u001b[38;5;241m=\u001b[39m (\n\u001b[0;32m    171\u001b[0m         \u001b[38;5;124m\"\u001b[39m\u001b[38;5;124mFound unknown categories \u001b[39m\u001b[38;5;132;01m{0}\u001b[39;00m\u001b[38;5;124m in column \u001b[39m\u001b[38;5;132;01m{1}\u001b[39;00m\u001b[38;5;124m\"\u001b[39m\n\u001b[0;32m    172\u001b[0m         \u001b[38;5;124m\"\u001b[39m\u001b[38;5;124m during transform\u001b[39m\u001b[38;5;124m\"\u001b[39m\u001b[38;5;241m.\u001b[39mformat(diff, i)\n\u001b[0;32m    173\u001b[0m     )\n\u001b[1;32m--> 174\u001b[0m     \u001b[38;5;28;01mraise\u001b[39;00m \u001b[38;5;167;01mValueError\u001b[39;00m(msg)\n\u001b[0;32m    175\u001b[0m \u001b[38;5;28;01melse\u001b[39;00m:\n\u001b[0;32m    176\u001b[0m     \u001b[38;5;28;01mif\u001b[39;00m warn_on_unknown:\n",
      "\u001b[1;31mValueError\u001b[0m: Found unknown categories ['CA-2020-139661', 'CA-2020-100580', 'US-2020-118598', 'CA-2019-149237', 'CA-2020-152079', 'CA-2020-160934', 'US-2019-121013', 'CA-2020-111269', 'CA-2020-130043', 'CA-2020-121741', 'CA-2019-114895', 'US-2020-126081', 'CA-2019-140774', 'CA-2020-131303', 'CA-2020-120936', 'US-2019-134761', 'CA-2019-113117', 'CA-2019-142398', 'CA-2019-121958', 'CA-2020-109183', 'CA-2019-119683', 'CA-2019-117912', 'CA-2020-107713', 'CA-2020-108287', 'US-2020-152569', 'CA-2020-147291', 'CA-2020-135783', 'CA-2019-105585', 'CA-2019-140928', 'US-2020-120147', 'CA-2019-158869', 'CA-2020-164959', 'CA-2020-140053', 'CA-2019-164924', 'CA-2020-127264', 'CA-2019-118934', 'CA-2020-151911', 'CA-2020-160087', 'US-2020-111241', 'CA-2020-168900', 'CA-2020-107314', 'CA-2020-158407', 'CA-2020-160899', 'CA-2019-149685', 'US-2019-142685', 'US-2019-131674', 'CA-2020-109211', 'CA-2020-117198', 'CA-2020-102659', 'CA-2019-163174', 'CA-2019-168830', 'CA-2020-164098', 'CA-2020-139437', 'CA-2020-117807', 'CA-2020-133074', 'CA-2019-166275', 'CA-2019-115917', 'CA-2019-130050', 'CA-2019-157511', 'CA-2020-153787', 'CA-2020-124114', 'US-2020-116491', 'CA-2020-114258', 'CA-2019-113656', 'CA-2020-144820', 'CA-2020-141201', 'US-2020-168613', 'CA-2020-146780', 'CA-2019-127250', 'CA-2020-148138', 'CA-2020-152660', 'CA-2020-120061', 'CA-2020-137918', 'CA-2020-167549', 'CA-2020-136826', 'CA-2020-145506', 'CA-2019-137176', 'CA-2019-130442', 'US-2019-163258', 'CA-2019-164091', 'CA-2019-161543', 'US-2020-120607', 'CA-2020-132262', 'US-2020-128447', 'CA-2019-166443', 'US-2019-134656', 'CA-2019-105753', 'US-2020-132927', 'CA-2020-132955', 'CA-2020-155089', 'CA-2019-102792', 'CA-2020-144036', 'CA-2020-141103', 'CA-2020-162712', 'CA-2019-139878', 'CA-2019-165484', 'CA-2020-104388', 'CA-2019-149314', 'CA-2020-100426', 'CA-2019-140935', 'CA-2019-125017', 'CA-2019-126795', 'CA-2019-108735', 'CA-2019-164490', 'US-2019-148334', 'CA-2020-118892', 'CA-2019-110499', 'US-2020-150070', 'US-2019-122182', 'CA-2019-146766', 'CA-2019-166373', 'CA-2020-122798', 'CA-2020-109589', 'US-2020-139577', 'CA-2020-107986', 'CA-2020-137582', 'CA-2020-104010', 'CA-2019-146171', 'CA-2020-100783', 'CA-2020-141782', 'CA-2019-127985', 'CA-2020-152436', 'CA-2020-117394', 'CA-2020-154074', 'CA-2020-141992', 'CA-2020-138156', 'CA-2020-121706', 'CA-2020-155712', 'CA-2020-110625', 'CA-2020-125878', 'US-2020-101784', 'CA-2020-103415', 'CA-2020-115364', 'CA-2020-104066', 'CA-2019-169026', 'CA-2019-107146', 'CA-2019-103464', 'CA-2020-109778', 'CA-2020-139493', 'CA-2020-168179', 'CA-2020-146269', 'CA-2020-143217', 'CA-2020-145737', 'CA-2020-143756', 'US-2019-114776', 'CA-2019-101623', 'CA-2020-161823', 'CA-2020-121804', 'CA-2019-140256', 'CA-2019-121993', 'CA-2020-108294', 'CA-2019-157259', 'CA-2019-127761', 'CA-2019-166429', 'CA-2019-137393', 'CA-2020-125990', 'CA-2019-139549', 'US-2020-143028', 'US-2019-146794', 'CA-2020-124828', 'CA-2019-143609', 'CA-2019-100083', 'CA-2019-123666', 'CA-2020-137022', 'US-2019-135720', 'US-2020-105697', 'CA-2020-161088', 'CA-2019-133669', 'CA-2019-164938', 'CA-2019-155747', 'CA-2020-137624', 'CA-2019-155845', 'CA-2019-124562', 'CA-2020-123372', 'CA-2019-139556', 'CA-2020-141572', 'US-2020-143175', 'CA-2019-103128', 'CA-2020-163097', 'CA-2019-101343', 'CA-2020-154410', 'CA-2020-111808', 'CA-2019-147585', 'CA-2019-148796', 'CA-2020-105193', 'CA-2020-151218', 'CA-2019-158260', 'CA-2020-159793', 'US-2019-150035', 'CA-2020-141138', 'CA-2019-130267', 'CA-2019-158043', 'CA-2020-169810', 'CA-2020-116288', 'CA-2020-101665', 'CA-2020-143126', 'CA-2020-136651', 'CA-2020-129581', 'CA-2020-146031', 'CA-2019-160479', 'CA-2019-137939', 'CA-2020-144568', 'CA-2020-107167', 'CA-2020-113418', 'CA-2019-131093', 'CA-2020-112984', 'CA-2019-108630', 'CA-2020-134285', 'CA-2019-147431', 'CA-2020-139717', 'CA-2019-112830', 'CA-2020-130309', 'CA-2020-145443', 'CA-2019-148201', 'CA-2019-157714', 'CA-2020-125101', 'CA-2019-152646', 'CA-2019-137204', 'CA-2020-110380', 'CA-2020-168403', 'US-2019-144477', 'CA-2019-147256', 'CA-2020-117156', 'US-2019-119270', 'CA-2020-153339', 'CA-2020-108910', 'CA-2020-137085', 'CA-2019-120257', 'CA-2019-121447', 'CA-2020-115322', 'US-2020-166394', 'CA-2019-147067', 'CA-2020-132346', 'US-2020-118157', 'CA-2019-132019', 'CA-2019-140634', 'US-2019-106313', 'CA-2019-153353', 'CA-2020-164000', 'CA-2019-132143', 'CA-2020-105326', 'CA-2019-101651', 'US-2019-146066', 'CA-2020-157273', 'US-2020-128951', 'CA-2020-106033', 'US-2020-146878', 'CA-2020-132437', 'CA-2020-142461', 'CA-2019-157686', 'CA-2019-113726', 'CA-2019-123015', 'CA-2020-102834', 'CA-2020-160724', 'CA-2019-102162', 'CA-2019-113803', 'CA-2020-152135', 'CA-2020-112039', 'CA-2020-105053', 'CA-2019-111696', 'CA-2019-121377', 'CA-2019-134544'] in column 0 during transform"
     ]
    }
   ],
   "source": [
    "x_train_prep = preprocessor.fit_transform(x_train)\n",
    "x_test_prep = preprocessor.transform(x_test)\n",
    "x_val_prep = preprocessor.transform(x_val)"
   ]
  },
  {
   "cell_type": "code",
   "execution_count": null,
   "id": "7ceed395",
   "metadata": {},
   "outputs": [],
   "source": [
    "encoded_cat = proprocessor.named_transformers_['cat']['onehot'].get_feature_names(cat_cols)\n",
    "labels = np.concatenate([numeric_cols, encoded_cat])\n",
    "datos_train_prep = pd.DataFrame(x_test_prep, cloumns=labels)\n",
    "datos_train_prep.describe()"
   ]
  },
  {
   "cell_type": "code",
   "execution_count": 32,
   "id": "788374d1",
   "metadata": {},
   "outputs": [
    {
     "ename": "NameError",
     "evalue": "name 'x_val_prep' is not defined",
     "output_type": "error",
     "traceback": [
      "\u001b[1;31m---------------------------------------------------------------------------\u001b[0m",
      "\u001b[1;31mNameError\u001b[0m                                 Traceback (most recent call last)",
      "Cell \u001b[1;32mIn[32], line 1\u001b[0m\n\u001b[1;32m----> 1\u001b[0m datos_val_prep \u001b[38;5;241m=\u001b[39m pd\u001b[38;5;241m.\u001b[39mDataFrame(\u001b[43mx_val_prep\u001b[49m, columnd\u001b[38;5;241m=\u001b[39mlabels)\n\u001b[0;32m      2\u001b[0m datos_test_prep\u001b[38;5;241m.\u001b[39mdescribe()\n",
      "\u001b[1;31mNameError\u001b[0m: name 'x_val_prep' is not defined"
     ]
    }
   ],
   "source": [
    "datos_val_prep = pd.DataFrame(x_val_prep, columnd=labels)\n",
    "datos_test_prep.describe()"
   ]
  },
  {
   "cell_type": "code",
   "execution_count": null,
   "id": "8d708ee7",
   "metadata": {},
   "outputs": [],
   "source": []
  }
 ],
 "metadata": {
  "kernelspec": {
   "display_name": "Python 3 (ipykernel)",
   "language": "python",
   "name": "python3"
  },
  "language_info": {
   "codemirror_mode": {
    "name": "ipython",
    "version": 3
   },
   "file_extension": ".py",
   "mimetype": "text/x-python",
   "name": "python",
   "nbconvert_exporter": "python",
   "pygments_lexer": "ipython3",
   "version": "3.9.13"
  }
 },
 "nbformat": 4,
 "nbformat_minor": 5
}
